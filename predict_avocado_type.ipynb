{
 "cells": [
  {
   "cell_type": "code",
   "execution_count": 1,
   "metadata": {},
   "outputs": [],
   "source": [
    "import pandas as pd\n",
    "\n",
    "df = pd.read_csv('avocado.csv', index_col='Date', parse_dates=['Date'])"
   ]
  },
  {
   "cell_type": "code",
   "execution_count": 2,
   "metadata": {},
   "outputs": [
    {
     "data": {
      "text/plain": [
       "conventional    9126\n",
       "organic         9123\n",
       "Name: type, dtype: int64"
      ]
     },
     "execution_count": 2,
     "metadata": {},
     "output_type": "execute_result"
    }
   ],
   "source": [
    "# 目的変数を確認\n",
    "obj_col = 'type'\n",
    "df[obj_col].value_counts()"
   ]
  },
  {
   "cell_type": "code",
   "execution_count": 3,
   "metadata": {},
   "outputs": [],
   "source": [
    "#ラベルを整数に変換\n",
    "df.loc[ df[obj_col]=='conventional' , obj_col] = 0\n",
    "df.loc[ df[obj_col]=='organic' , obj_col] = 1\n",
    "\n",
    "#目的変数の型変換\n",
    "df.loc[:, obj_col ] = df.loc[:, obj_col ].astype(int)"
   ]
  },
  {
   "cell_type": "code",
   "execution_count": 4,
   "metadata": {},
   "outputs": [],
   "source": [
    "exp_col = ['AveragePrice', \n",
    "                   'Total Volume', \n",
    "                   '4046', \n",
    "                   '4225', \n",
    "                   '4770', \n",
    "                   'Total Bags', \n",
    "                   'Small Bags', \n",
    "                   'Large Bags']"
   ]
  },
  {
   "cell_type": "code",
   "execution_count": 5,
   "metadata": {},
   "outputs": [
    {
     "data": {
      "text/plain": [
       "array([[  1.33000000e+00,   6.42366200e+04,   1.03674000e+03, ...,\n",
       "          8.69687000e+03,   8.60362000e+03,   9.32500000e+01],\n",
       "       [  1.35000000e+00,   5.48769800e+04,   6.74280000e+02, ...,\n",
       "          9.50556000e+03,   9.40807000e+03,   9.74900000e+01],\n",
       "       [  9.30000000e-01,   1.18220220e+05,   7.94700000e+02, ...,\n",
       "          8.14535000e+03,   8.04221000e+03,   1.03140000e+02],\n",
       "       ..., \n",
       "       [  1.87000000e+00,   1.37667600e+04,   1.19192000e+03, ...,\n",
       "          9.39411000e+03,   9.35180000e+03,   4.23100000e+01],\n",
       "       [  1.93000000e+00,   1.62052200e+04,   1.52763000e+03, ...,\n",
       "          1.09695400e+04,   1.09195400e+04,   5.00000000e+01],\n",
       "       [  1.62000000e+00,   1.74895800e+04,   2.89477000e+03, ...,\n",
       "          1.20141500e+04,   1.19881400e+04,   2.60100000e+01]])"
      ]
     },
     "execution_count": 5,
     "metadata": {},
     "output_type": "execute_result"
    }
   ],
   "source": [
    "df[exp_col].values"
   ]
  },
  {
   "cell_type": "code",
   "execution_count": 6,
   "metadata": {},
   "outputs": [
    {
     "data": {
      "text/plain": [
       "array([0, 0, 0, ..., 1, 1, 1])"
      ]
     },
     "execution_count": 6,
     "metadata": {},
     "output_type": "execute_result"
    }
   ],
   "source": [
    "df[obj_col].values"
   ]
  },
  {
   "cell_type": "code",
   "execution_count": 7,
   "metadata": {},
   "outputs": [],
   "source": [
    "traindf = df.loc[:'2017',:]\n",
    "testdf  = df.loc['2018':,:]"
   ]
  },
  {
   "cell_type": "code",
   "execution_count": 8,
   "metadata": {},
   "outputs": [],
   "source": [
    "X_train = traindf.loc[:'2017',exp_col].values\n",
    "y_train = traindf.loc[:'2017',obj_col].values\n",
    "\n",
    "X_test  = testdf.loc['2018':,exp_col].values\n",
    "y_test  = testdf.loc['2018':,obj_col].values"
   ]
  },
  {
   "cell_type": "code",
   "execution_count": 9,
   "metadata": {},
   "outputs": [],
   "source": [
    "from sklearn.preprocessing import StandardScaler\n",
    "\n",
    "scaler = StandardScaler()\n",
    "#標準化させるために訓練データだけで平均と分散を計算\n",
    "scaler.fit(X_train)\n",
    "#訓練データ，テストデータを標準化する．\n",
    "X_train = scaler.transform(X_train)\n",
    "X_test  = scaler.transform(X_test)"
   ]
  },
  {
   "cell_type": "code",
   "execution_count": 11,
   "metadata": {},
   "outputs": [],
   "source": [
    "from sklearn.linear_model import LogisticRegression"
   ]
  },
  {
   "cell_type": "code",
   "execution_count": null,
   "metadata": {},
   "outputs": [],
   "source": [
    "# group 10-fold cross validation\n",
    "from sklearn.pipeline import Pipeline\n",
    "from sklearn.preprocessing import StandardScaler\n",
    "from sklearn.svm import SVC\n",
    "from sklearn.model_selection import GridSearchCV\n",
    "from sklearn.model_selection import GroupKFold\n",
    "\n",
    "n = X_train.shape[1]\n",
    "\n",
    "#標準化と学習のパイプライン\n",
    "pipe = Pipeline([('scaler',StandardScaler()),(\"LR\",LogisticRegression(random_state=0))])\n",
    "pipe.fit(X_train,y_train)\n",
    "\n",
    "#パラメータは10^nオーダーで変化させる\n",
    "params = {'LR__C':[10000,100000,1000000,10000000],'LR__penalty':['l1', 'l2'],'LR__class_weight':[None,'balanced']}\n",
    "\n",
    "#グリッドサーチ\n",
    "grid = GridSearchCV(pipe, param_grid = params, cv = 5, scoring='accuracy',n_jobs=10)\n",
    "grid.fit(X_train,y_train)\n",
    "\n",
    "print('Best cross-validation accuracy: {:.2f}'.format(grid.best_score_))\n",
    "print('Train set score: {:.2f}'.format(grid.score(X_train,y_train)))\n",
    "print('Best parameters : {}'.format(grid.best_params_))"
   ]
  },
  {
   "cell_type": "code",
   "execution_count": 12,
   "metadata": {},
   "outputs": [],
   "source": [
    "#from sklearn.svm import SVC\n",
    "#from sklearn.linear_model import SGDClassifier\n",
    "from sklearn.linear_model import LogisticRegression\n",
    "\n",
    "clf = LogisticRegression(random_state=0, penalty='l2', C=100000, class_weight='balanced')\n",
    "\n",
    "clf.fit(X_train, y_train)\n",
    "y_pred = clf.predict(X_test)"
   ]
  },
  {
   "cell_type": "code",
   "execution_count": 13,
   "metadata": {},
   "outputs": [
    {
     "name": "stdout",
     "output_type": "stream",
     "text": [
      "平均予測精度 : 0.9591049382716049\n",
      "\n",
      "              precision    recall  f1-score   support\n",
      "\n",
      "conventional       0.99      0.92      0.96       648\n",
      "     organic       0.93      0.99      0.96       648\n",
      "\n",
      " avg / total       0.96      0.96      0.96      1296\n",
      "\n"
     ]
    }
   ],
   "source": [
    "from sklearn.metrics import classification_report\n",
    "\n",
    "print('平均予測精度 : {:.2f}\\n'.format(clf.score(X_test, y_test)))\n",
    "print(classification_report(y_test, y_pred, target_names=['conventional','organic']))"
   ]
  },
  {
   "cell_type": "code",
   "execution_count": null,
   "metadata": {},
   "outputs": [],
   "source": []
  }
 ],
 "metadata": {
  "hide_input": false,
  "kernelspec": {
   "display_name": "Python [default]",
   "language": "python",
   "name": "python3"
  },
  "language_info": {
   "codemirror_mode": {
    "name": "ipython",
    "version": 3
   },
   "file_extension": ".py",
   "mimetype": "text/x-python",
   "name": "python",
   "nbconvert_exporter": "python",
   "pygments_lexer": "ipython3",
   "version": "3.5.4"
  }
 },
 "nbformat": 4,
 "nbformat_minor": 2
}
